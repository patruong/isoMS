{
 "cells": [
  {
   "cell_type": "markdown",
   "metadata": {},
   "source": [
    "## Background\n",
    "\n",
    "This study aims to identify the best method to preprocess and accurately portray mass spectrometric isotopic ratio data from individual amino acids. Experiments with valine (C<sub>5</sub>H<sub>11</sub>NO<sub>2</sub>), proline (C<sub>5</sub>H<sub>9</sub>NO<sub>2</sub>) and hydroxyproline (C<sub>5</sub>H<sub>9</sub>NO<sub>3</sub>) samples has been conducted and four isotopes ratios are of interest (H<sub>1</sub>/H<sub>2</sub>, C<sub>12</sub>/C<sub>13</sub>, N<sub>14</sub>/N<sub>15</sub> and O<sub>16</sub>/O<sub>18</sub>). The goal is find a method to represent the data in a accurate and precise way. Ideally, the ranking of the amino acids should be the same for different isotopic ratios (the accuracy problem) and the variance of the measurement should not be too broad (the precision problem). Specifically, previous attempts has shown that there the ranking of amino acids differ for N and H isotopes, and that carbon isotopic ratios has a high variance (in the order of percentages, when it is expected to be in promille). The carbon measurement problem causes an issue in reproducibility of experiments. These errors could be caused by either measurement and sample preperation errors, or data preprocessing and statistical method. This project focuses solely on the data preprocessing, data processing and statistical methods approach.\n"
   ]
  },
  {
   "cell_type": "markdown",
   "metadata": {},
   "source": [
    "## Problem\n",
    "\n",
    "## Preliminary Research Question\n",
    "\n",
    "## Limitations \n",
    "\n",
    "## Previous Studies\n",
    "\n",
    "### Data\n",
    "\n",
    "### Method\n"
   ]
  }
 ],
 "metadata": {
  "kernelspec": {
   "display_name": "Python 3",
   "language": "python",
   "name": "python3"
  },
  "language_info": {
   "codemirror_mode": {
    "name": "ipython",
    "version": 3
   },
   "file_extension": ".py",
   "mimetype": "text/x-python",
   "name": "python",
   "nbconvert_exporter": "python",
   "pygments_lexer": "ipython3",
   "version": "3.6.8"
  }
 },
 "nbformat": 4,
 "nbformat_minor": 4
}
