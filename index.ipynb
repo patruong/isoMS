{
 "cells": [
  {
   "cell_type": "markdown",
   "metadata": {},
   "source": [
    "## About\n",
    "This study aims to identify the best method to preprocess and accurately portray mass spectrometric isotopic ratio data from individual amino acids. Experiments with valine (C<sub>5</sub>H<sub>11</sub>NO<sub>2</sub>), proline (C<sub>5</sub>H<sub>9</sub>NO<sub>2</sub>) and hydroxyproline (C<sub>5</sub>H<sub>9</sub>NO<sub>3</sub>) samples has been conducted and four isotopes ratios are of interest (H<sub>1</sub>/H<sub>2</sub>, C<sub>12</sub>/C<sub>13</sub>, N<sub>14</sub>/N<sub>15</sub> and O<sub>16</sub>/O<sub>18</sub>). The goal is find a method to represent the data in a accurate and precise way. Ideally, the ranking of the amino acids should be the same for different isotopic ratios (the accuracy problem) and the variance of the measurement should not be too broad (the precision problem). Specifically, previous attempts has shown that there the ranking of amino acids differ for N and H isotopes, and that carbon isotopic ratios has a high variance (in the order of percentages, when it is expected to be in promille). The carbon measurement problem causes an issue in reproducibility of experiments. These errors could be caused by either measurement and sample preperation errors, or data preprocessing and statistical method. This project focuses solely on the data preprocessing, data processing and statistical methods approach. \n",
    "\n",
    "## Current steps\n",
    "- Precision problem: Find method that reduces the variance of isotopic ratios (specifically interested in finding it for C).\n",
    "- Accuracy problem: Find method that gives stable ranking of amino acids for the different isotopic ratios.\n",
    "- Check coefficient of variance between different replicates, to check normalization.\n",
    "- Check if different transformations could give better results (for example log-transformation.\n",
    "- Find a method to yield meaningful reproducib<sub></sub>le experimental results, without ratios (is there a way to find similar results as above without ratios?)\n",
    "- Use median of ratios, instead of ratios (Check Romans paper).\n",
    "- Remocal of non-statistical outliers: Use subset of medians of data (medians of triplicates or quadruplicates), simulate similar process with gaussian distribution to find the correction factor and apply the correction factor to the romal of non-statistical outliers process. \n",
    "- \n",
    "Goal is to have a methods that produces reproducable experimental results.\n"
   ]
  },
  {
   "cell_type": "code",
   "execution_count": 4,
   "metadata": {},
   "outputs": [],
   "source": [
    "import os"
   ]
  },
  {
   "cell_type": "code",
   "execution_count": 15,
   "metadata": {},
   "outputs": [],
   "source": [
    "os.chdir(\"/home/ptruong/git/isoMS/\")"
   ]
  },
  {
   "cell_type": "code",
   "execution_count": 21,
   "metadata": {},
   "outputs": [],
   "source": [
    "file_dir = \"data/Patrick/Experiment1/mzML/\""
   ]
  },
  {
   "cell_type": "code",
   "execution_count": 17,
   "metadata": {},
   "outputs": [
    {
     "data": {
      "text/plain": [
       "['20200506_DirectInjection_Lumos_Hyp_1.mzML',\n",
       " '20200506_DirectInjection_Lumos_Pro_2.mzML',\n",
       " '20200506_DirectInjection_Lumos_Valine_3.mzML',\n",
       " '20200506_DirectInjection_Lumos_Hyp_2.mzML',\n",
       " '20200506_DirectInjection_Lumos_Valine_2.mzML',\n",
       " '20200506_DirectInjection_Lumos_Hyp_3.mzML',\n",
       " '20200506_DirectInjection_Lumos_Pro_1.mzML',\n",
       " '20200506_DirectInjection_Lumos_Pro_3.mzML',\n",
       " '20200506_DirectInjection_Lumos_Valine_1.mzML']"
      ]
     },
     "execution_count": 17,
     "metadata": {},
     "output_type": "execute_result"
    }
   ],
   "source": [
    "os.listdir(file_dir)"
   ]
  },
  {
   "cell_type": "code",
   "execution_count": 18,
   "metadata": {},
   "outputs": [],
   "source": [
    "from pyteomics import mzml"
   ]
  },
  {
   "cell_type": "code",
   "execution_count": 29,
   "metadata": {},
   "outputs": [],
   "source": [
    "mzml_file = mzml.read(file_dir + '20200506_DirectInjection_Lumos_Hyp_1.mzML')"
   ]
  },
  {
   "cell_type": "code",
   "execution_count": 30,
   "metadata": {},
   "outputs": [
    {
     "data": {
      "text/plain": [
       "{'index': 0,\n",
       " 'id': 'controllerType=0 controllerNumber=1 scan=1',\n",
       " 'defaultArrayLength': 1054264,\n",
       " 'scanList': {'count': 1,\n",
       "  'scan': [{'scanWindowList': {'count': 1,\n",
       "     'scanWindow': [{'scan window lower limit': 50.0 m/z,\n",
       "       'scan window upper limit': 200.0 m/z}]},\n",
       "    'scan start time': 0.0018222472 minute,\n",
       "    'filter string': 'FTMS + p NSI Full ms [50.0000-200.0000]',\n",
       "    'ion injection time': 0.282198995352 millisecond}],\n",
       "  'no combination': ''},\n",
       " 'MS1 spectrum': '',\n",
       " 'ms level': 1,\n",
       " 'positive scan': '',\n",
       " 'profile spectrum': '',\n",
       " 'base peak m/z': 132.066116333008 m/z,\n",
       " 'base peak intensity': 1695461760.0 number of detector counts,\n",
       " 'total ion current': 3927511296.0,\n",
       " 'lowest observed m/z': 49.502896162251 m/z,\n",
       " 'highest observed m/z': 202.014287725871 m/z,\n",
       " 'spectrum title': '20200506_DirectInjection_Lumos_Hyp_1.1.1. File:\"20200506_DirectInjection_Lumos_Hyp_1.raw\", NativeID:\"controllerType=0 controllerNumber=1 scan=1\"',\n",
       " 'count': 2,\n",
       " 'm/z array': array([ 49.50289616,  49.50294289,  49.50298961, ..., 202.01351739,\n",
       "        202.01390256, 202.01428773]),\n",
       " 'intensity array': array([0., 0., 0., ..., 0., 0., 0.])}"
      ]
     },
     "execution_count": 30,
     "metadata": {},
     "output_type": "execute_result"
    }
   ],
   "source": [
    "next(mzml_file)\n"
   ]
  },
  {
   "cell_type": "code",
   "execution_count": 31,
   "metadata": {},
   "outputs": [
    {
     "data": {
      "text/plain": [
       "{'index': 1,\n",
       " 'id': 'controllerType=0 controllerNumber=1 scan=3',\n",
       " 'defaultArrayLength': 527694,\n",
       " 'scanList': {'count': 1,\n",
       "  'scan': [{'scanWindowList': {'count': 1,\n",
       "     'scanWindow': [{'scan window lower limit': 50.0 m/z,\n",
       "       'scan window upper limit': 200.0 m/z}]},\n",
       "    'scan start time': 0.186301419733 minute,\n",
       "    'filter string': 'FTMS + p NSI Full ms2 125.0000@hcd50.00 [50.0000-200.0000]',\n",
       "    'ion injection time': 0.255162477493 millisecond,\n",
       "    '[Thermo Trailer Extra]Monoisotopic M/Z:': 0.0}],\n",
       "  'no combination': ''},\n",
       " 'precursorList': {'count': 1,\n",
       "  'precursor': [{'spectrumRef': 'controllerType=0 controllerNumber=1 scan=1',\n",
       "    'isolationWindow': {'isolation window target m/z': 125.0 m/z,\n",
       "     'isolation window lower offset': 75.0 m/z,\n",
       "     'isolation window upper offset': 75.0 m/z},\n",
       "    'selectedIonList': {'count': 1,\n",
       "     'selectedIon': [{'selected ion m/z': 125.0 m/z,\n",
       "       'charge state': 1.0,\n",
       "       'peak intensity': 2830297.25 number of detector counts}]},\n",
       "    'activation': {'beam-type collision-induced dissociation': '',\n",
       "     'collision energy': 50.0 electronvolt}}]},\n",
       " 'MSn spectrum': '',\n",
       " 'ms level': 2,\n",
       " 'positive scan': '',\n",
       " 'profile spectrum': '',\n",
       " 'base peak m/z': 68.049713134766 m/z,\n",
       " 'base peak intensity': 408337952.0 number of detector counts,\n",
       " 'total ion current': 1379620608.0,\n",
       " 'lowest observed m/z': 49.502813063554 m/z,\n",
       " 'highest observed m/z': 202.015486169218 m/z,\n",
       " 'spectrum title': '20200506_DirectInjection_Lumos_Hyp_1.3.3.1 File:\"20200506_DirectInjection_Lumos_Hyp_1.raw\", NativeID:\"controllerType=0 controllerNumber=1 scan=3\"',\n",
       " 'count': 2,\n",
       " 'm/z array': array([ 49.50281306,  49.50290651,  49.50299995, ..., 202.01394548,\n",
       "        202.01471582, 202.01548617]),\n",
       " 'intensity array': array([0., 0., 0., ..., 0., 0., 0.])}"
      ]
     },
     "execution_count": 31,
     "metadata": {},
     "output_type": "execute_result"
    }
   ],
   "source": [
    "next(mzml_file)"
   ]
  },
  {
   "cell_type": "code",
   "execution_count": null,
   "metadata": {},
   "outputs": [],
   "source": []
  },
  {
   "cell_type": "markdown",
   "metadata": {},
   "source": [
    "----- OLD STUFF BELOW -------"
   ]
  },
  {
   "cell_type": "markdown",
   "metadata": {},
   "source": [
    "## 2020-11-10 Tuesday\n",
    "ToDo:\n",
    "- Check dinosaur, openms, skyline...\n",
    "- Skim (Cramer et al.)[https://www.researchgate.net/publication/47730346_Evaluation_of_Peak-Picking_Algorithms_for_Protein_Mass_Spectrometry]\n",
    "- Check how to vizualize and vizualise .mzML files to inspect.\n",
    "\n"
   ]
  },
  {
   "cell_type": "markdown",
   "metadata": {},
   "source": [
    "## 2020-10-21 Webnesday\n",
    "### 14:27 More tools, pyopenms and previous run of conversion to .mzML was bad\n",
    "Previous run conversion run with msconvert was bad. Just reran the code without peakPicking filter.\n",
    "\n",
    "Checked out pyopenms. It works on my desktop, but there is an error related to QT5 on my laptop when running on spyder (why?). \n",
    "\n",
    "I got the suggestion to use dinosaur as a peakPicker and try different peakPicking filters from it. \n",
    "\n",
    "ToDo:\n",
    "- check if Percolator applicable at some step here?\n",
    "- check how to run dinosaur. \n",
    "- peakPick with dinosaur. \n",
    "- Script code to generate some exploratory plots with .mzML files.\n",
    "- Check if pandas-profiling can be useful. \n",
    "\n",
    "## 2020-10-18\n",
    "\n",
    "### 23:27 Finished data conversion to .mzML\n",
    "Just used msconvert to convert the .raw data to .mzML. The only filter used is pickPeaking msLevel=1-2. The end file size are much smaller than expected even though I've been told they are expected to be larger than the .raw files. Am I doing something wrong?\n",
    "\n",
    "I will try pyopenms to open these .mzML files.\n",
    "\n",
    "Setting up a Rmarkdown log for this project. "
   ]
  }
 ],
 "metadata": {
  "kernelspec": {
   "display_name": "Python 3",
   "language": "python",
   "name": "python3"
  },
  "language_info": {
   "codemirror_mode": {
    "name": "ipython",
    "version": 3
   },
   "file_extension": ".py",
   "mimetype": "text/x-python",
   "name": "python",
   "nbconvert_exporter": "python",
   "pygments_lexer": "ipython3",
   "version": "3.6.11"
  }
 },
 "nbformat": 4,
 "nbformat_minor": 4
}
