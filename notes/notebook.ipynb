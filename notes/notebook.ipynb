{
 "cells": [
  {
   "cell_type": "code",
   "execution_count": null,
   "metadata": {},
   "outputs": [],
   "source": []
  },
  {
   "cell_type": "markdown",
   "metadata": {},
   "source": [
    "# Theory\n",
    "In this section a short description of the data fields are provided.\n",
    "\n",
    "## Total ion current\n",
    "The total ion current (TIC) chromatogram represents the summed intensity across the entire range of masses being detected at every point in the analysis. The range is typically several hundred mass-to-charge units or more. In complex samples, the TIC chromatogram often provides limited information as multiple analytes elute simultaneously, obscuring individual species.[https://en.wikipedia.org/wiki/Mass_chromatogram]\n",
    "\n",
    "![TIC](img/1280px-Total_ion_current_chromatogram.png)\n",
    "An example of TIC chromatogram from an LC-MS analysis.\n",
    "\n",
    "## Base peak intensity \n",
    "The base peak chromatogram is similar to the TIC chromatogram, however it monitors only the most intense peak in each spectrum. This means that the base peak chromatogram represents the intensity of the most intense peak at every point in the analysis. Base peak chromatograms often have a cleaner look and thus are more informative than TIC chromatograms because the background is reduced by focusing on a single analyte at every point.[https://en.wikipedia.org/wiki/Mass_chromatogram]\n",
    "\n",
    "![BPI](img/1280px-Base_peak_chromatogram.png)\n",
    "An example of BPI chromatogram from an LC-MS analysis.\n",
    "\n",
    "## Base peak MZ\n",
    "Base peak: The most intense (tallest) peak in a mass spectrum, due to the ion with the greatest relative abundance (relative intensity; height of peak along the spectrum's y-axis). Not to be confused with molecular ion: base peaks are not always molecular ions, and molecular ions are not always base peaks.\n",
    "\n",
    "![ m/z = 91](img/base_peak01.jpg)\n",
    "The electron impact ionization mass spectrum of PhCH2Cl, in which the base peak is a fragment ion having m/z = 91.\n",
    "\n",
    "![ m/z = 16](img/base_peak02.jpg)\n",
    "The electron impact ionization mass spectrum of PhCH2Cl, in which the base peak is a fragment ion having m/z = 91.[http://www.chem.ucla.edu/~harding/IGOC/B/base_peak.html]\n",
    "\n",
    "## Ion\n",
    "The amino acid ion. \n",
    "\n",
    "![ Ion list ](img/List-of-amino-acids-abbreviations.png)\n",
    "\n",
    "## n\n",
    "How many of the particles we have (e.g in 13C in the data we have 5 carbon in the proline sample.).\n",
    "\n",
    "## AUC\n",
    "Area under the curve. The area under the interpolated \"gaussian\" curve that fit the peaks (what peak was this now again? \n"
   ]
  },
  {
   "cell_type": "markdown",
   "metadata": {},
   "source": [
    "# About the data\n",
    "\n",
    "## How the data is recorded.\n",
    "\n",
    "There are different number of scans for the time that it is recording. For each scan we are looking at all the amino acids and the isotopes. If we run the experiment for 200 scans. In the perfect world we would have 200 data points for each experiment, which we could use to define a statistic that we could then use for measurement. \n"
   ]
  },
  {
   "cell_type": "markdown",
   "metadata": {},
   "source": [
    "# Loading libraries"
   ]
  },
  {
   "cell_type": "code",
   "execution_count": 4,
   "metadata": {},
   "outputs": [],
   "source": [
    "#Import Libraries\n",
    "import numpy as np\n",
    "import pandas as pd\n",
    "import matplotlib.pylab as plt\n",
    "import seaborn as sns#Understanding my variables\n"
   ]
  },
  {
   "cell_type": "markdown",
   "metadata": {},
   "source": [
    "# Load data"
   ]
  },
  {
   "cell_type": "code",
   "execution_count": 70,
   "metadata": {},
   "outputs": [],
   "source": [
    "# Read in data.\n",
    "df = pd.read_csv(\"../data/MSMS/20200309_AminoAcid_Hyp_0.01_AGC_1_fit.csv\")\n"
   ]
  },
  {
   "cell_type": "markdown",
   "metadata": {},
   "source": [
    "# Data description\n",
    "This section contains some data description.\n"
   ]
  },
  {
   "cell_type": "markdown",
   "metadata": {},
   "source": [
    "## Shape"
   ]
  },
  {
   "cell_type": "code",
   "execution_count": 71,
   "metadata": {},
   "outputs": [
    {
     "data": {
      "text/plain": [
       "(10020, 16)"
      ]
     },
     "execution_count": 71,
     "metadata": {},
     "output_type": "execute_result"
    }
   ],
   "source": [
    "# Data details\n",
    "df.shape\n"
   ]
  },
  {
   "cell_type": "markdown",
   "metadata": {},
   "source": [
    "Data has 5931 samples and 16 columns."
   ]
  },
  {
   "cell_type": "markdown",
   "metadata": {},
   "source": [
    "## Head"
   ]
  },
  {
   "cell_type": "code",
   "execution_count": 57,
   "metadata": {},
   "outputs": [
    {
     "data": {
      "text/html": [
       "<div>\n",
       "<style scoped>\n",
       "    .dataframe tbody tr th:only-of-type {\n",
       "        vertical-align: middle;\n",
       "    }\n",
       "\n",
       "    .dataframe tbody tr th {\n",
       "        vertical-align: top;\n",
       "    }\n",
       "\n",
       "    .dataframe thead th {\n",
       "        text-align: right;\n",
       "    }\n",
       "</style>\n",
       "<table border=\"1\" class=\"dataframe\">\n",
       "  <thead>\n",
       "    <tr style=\"text-align: right;\">\n",
       "      <th></th>\n",
       "      <th>seqNum</th>\n",
       "      <th>peak</th>\n",
       "      <th>I</th>\n",
       "      <th>mu</th>\n",
       "      <th>sigma</th>\n",
       "      <th>R2</th>\n",
       "      <th>isoshift</th>\n",
       "      <th>theorshift</th>\n",
       "      <th>masserror</th>\n",
       "      <th>isoratio</th>\n",
       "      <th>rt</th>\n",
       "      <th>tic</th>\n",
       "      <th>bpI</th>\n",
       "      <th>bpMZ</th>\n",
       "      <th>ion</th>\n",
       "      <th>n</th>\n",
       "    </tr>\n",
       "  </thead>\n",
       "  <tbody>\n",
       "    <tr>\n",
       "      <th>0</th>\n",
       "      <td>1</td>\n",
       "      <td>0</td>\n",
       "      <td>2758.181618</td>\n",
       "      <td>116.070959</td>\n",
       "      <td>0.000268</td>\n",
       "      <td>0.997206</td>\n",
       "      <td>0.000000</td>\n",
       "      <td>0.000000</td>\n",
       "      <td>0.000000</td>\n",
       "      <td>1.000000</td>\n",
       "      <td>0.31747</td>\n",
       "      <td>1159673216</td>\n",
       "      <td>146976784</td>\n",
       "      <td>132.065918</td>\n",
       "      <td>P</td>\n",
       "      <td>NaN</td>\n",
       "    </tr>\n",
       "    <tr>\n",
       "      <th>1</th>\n",
       "      <td>1</td>\n",
       "      <td>13C</td>\n",
       "      <td>117.595174</td>\n",
       "      <td>117.074331</td>\n",
       "      <td>NaN</td>\n",
       "      <td>0.991695</td>\n",
       "      <td>1.003372</td>\n",
       "      <td>1.003355</td>\n",
       "      <td>0.000017</td>\n",
       "      <td>0.042635</td>\n",
       "      <td>0.31747</td>\n",
       "      <td>1159673216</td>\n",
       "      <td>146976784</td>\n",
       "      <td>132.065918</td>\n",
       "      <td>P</td>\n",
       "      <td>5.0</td>\n",
       "    </tr>\n",
       "    <tr>\n",
       "      <th>2</th>\n",
       "      <td>1</td>\n",
       "      <td>18O</td>\n",
       "      <td>7.223932</td>\n",
       "      <td>118.075271</td>\n",
       "      <td>NaN</td>\n",
       "      <td>0.917298</td>\n",
       "      <td>2.004311</td>\n",
       "      <td>2.004246</td>\n",
       "      <td>0.000066</td>\n",
       "      <td>0.002619</td>\n",
       "      <td>0.31747</td>\n",
       "      <td>1159673216</td>\n",
       "      <td>146976784</td>\n",
       "      <td>132.065918</td>\n",
       "      <td>P</td>\n",
       "      <td>2.0</td>\n",
       "    </tr>\n",
       "    <tr>\n",
       "      <th>3</th>\n",
       "      <td>1</td>\n",
       "      <td>0</td>\n",
       "      <td>46584.872660</td>\n",
       "      <td>132.065919</td>\n",
       "      <td>0.000326</td>\n",
       "      <td>0.998220</td>\n",
       "      <td>0.000000</td>\n",
       "      <td>0.000000</td>\n",
       "      <td>0.000000</td>\n",
       "      <td>1.000000</td>\n",
       "      <td>0.31747</td>\n",
       "      <td>1159673216</td>\n",
       "      <td>146976784</td>\n",
       "      <td>132.065918</td>\n",
       "      <td>Hyp</td>\n",
       "      <td>NaN</td>\n",
       "    </tr>\n",
       "    <tr>\n",
       "      <th>4</th>\n",
       "      <td>1</td>\n",
       "      <td>13C</td>\n",
       "      <td>2469.615085</td>\n",
       "      <td>133.069252</td>\n",
       "      <td>NaN</td>\n",
       "      <td>0.997956</td>\n",
       "      <td>1.003333</td>\n",
       "      <td>1.003355</td>\n",
       "      <td>-0.000022</td>\n",
       "      <td>0.053013</td>\n",
       "      <td>0.31747</td>\n",
       "      <td>1159673216</td>\n",
       "      <td>146976784</td>\n",
       "      <td>132.065918</td>\n",
       "      <td>Hyp</td>\n",
       "      <td>5.0</td>\n",
       "    </tr>\n",
       "  </tbody>\n",
       "</table>\n",
       "</div>"
      ],
      "text/plain": [
       "   seqNum peak             I          mu     sigma        R2  isoshift  \\\n",
       "0       1    0   2758.181618  116.070959  0.000268  0.997206  0.000000   \n",
       "1       1  13C    117.595174  117.074331       NaN  0.991695  1.003372   \n",
       "2       1  18O      7.223932  118.075271       NaN  0.917298  2.004311   \n",
       "3       1    0  46584.872660  132.065919  0.000326  0.998220  0.000000   \n",
       "4       1  13C   2469.615085  133.069252       NaN  0.997956  1.003333   \n",
       "\n",
       "   theorshift  masserror  isoratio       rt         tic        bpI  \\\n",
       "0    0.000000   0.000000  1.000000  0.31747  1159673216  146976784   \n",
       "1    1.003355   0.000017  0.042635  0.31747  1159673216  146976784   \n",
       "2    2.004246   0.000066  0.002619  0.31747  1159673216  146976784   \n",
       "3    0.000000   0.000000  1.000000  0.31747  1159673216  146976784   \n",
       "4    1.003355  -0.000022  0.053013  0.31747  1159673216  146976784   \n",
       "\n",
       "         bpMZ  ion    n  \n",
       "0  132.065918    P  NaN  \n",
       "1  132.065918    P  5.0  \n",
       "2  132.065918    P  2.0  \n",
       "3  132.065918  Hyp  NaN  \n",
       "4  132.065918  Hyp  5.0  "
      ]
     },
     "execution_count": 57,
     "metadata": {},
     "output_type": "execute_result"
    }
   ],
   "source": [
    "df.head()\n"
   ]
  },
  {
   "cell_type": "markdown",
   "metadata": {},
   "source": [
    "## Columns"
   ]
  },
  {
   "cell_type": "code",
   "execution_count": 58,
   "metadata": {},
   "outputs": [
    {
     "data": {
      "text/plain": [
       "Index(['seqNum', 'peak', 'I', 'mu', 'sigma', 'R2', 'isoshift', 'theorshift',\n",
       "       'masserror', 'isoratio', 'rt', 'tic', 'bpI', 'bpMZ', 'ion', 'n'],\n",
       "      dtype='object')"
      ]
     },
     "execution_count": 58,
     "metadata": {},
     "output_type": "execute_result"
    }
   ],
   "source": [
    "df.columns"
   ]
  },
  {
   "cell_type": "markdown",
   "metadata": {},
   "source": [
    "__'seqNum'__ - Name of the scan number (the scanId).\n",
    "\n",
    "__'peak'__ - Which isotop we are looking at. 0 means the monoisotopic peak, etc. \n",
    "\n",
    "__'I'__ - The area under the \"gaussian\" curve that is fitted on the data points.\n",
    "\n",
    "__'mu'__ - M/Z ratio. Mass of the peak that we are looking at. \n",
    "\n",
    "__'sigma'__ - The sigma parameter for the \"gaussian\"-fit. \n",
    "\n",
    "__'R2'__ - The same as sigma. It described the gaussian fit for those data points. Fit of a true gaussian fit vs the actual fit. \n",
    "\n",
    "__'isoshift'__ - Actual shift that we see for the detected peak.\n",
    "\n",
    "__'theorshift'__ - Actual theoretical shift.\n",
    "\n",
    "__'masserror'__ - Difference between the isoshift and theorshift.\n",
    "\n",
    "__'isoratio'__ - Ratio of the I/(I for the peak, which is 0 [monoisotopic peak]). E.g. The peak with 0 will always be 1 for isoratio because it will always be divided by itself (own area under the curve). This is the actual area under the curve for each peak. So eventually when we want to get it for individual elements we need to divide it by the individual number of atoms that we have for this specific element.  \n",
    "\n",
    "__'rt'__ - Retention time. \n",
    "\n",
    "__'tic'__ - Total Ion Current. Which is the abundance of all the abundance in this specific scan. The rt and tic are dependent on the seqNum because when we are looking at seqNum 1. The retention time will always be the same. It doesnt matter if we go for different tic or different ion because it is still in the first scan.\n",
    "\n",
    "__'bpI'__ - Base peak intensity. Which is the intensity of the base peak.\n",
    "\n",
    "__'bpMZ'__- Base peak mass over charge ratio. Base peak in the spectrum, means the highest peak that we have. \n",
    "\n",
    "__'ion'__ - Is the name of the amino acid that we have. \n",
    "\n",
    "__'n'__ - N is the number of element for the peak that we have for the specific ion. For instance; for proline. We will look for the ion P and go for the peak; and for carbon we will have 4 number of carbons. Then n will be 4. If we go for hydrogen it will be 10. For nitrogen it will be 1. It also depends if we are looking at the MS data or the MSMS data. Becuase we have different structure and this different structure has a different number of atoms and elements. \n"
   ]
  },
  {
   "cell_type": "markdown",
   "metadata": {},
   "source": [
    "## Unique\n"
   ]
  },
  {
   "cell_type": "code",
   "execution_count": 59,
   "metadata": {},
   "outputs": [
    {
     "data": {
      "text/plain": [
       "seqNum         276\n",
       "peak             5\n",
       "I             9226\n",
       "mu            9226\n",
       "sigma         3111\n",
       "R2            9226\n",
       "isoshift      6116\n",
       "theorshift       5\n",
       "masserror     6116\n",
       "isoratio      6116\n",
       "rt             276\n",
       "tic            276\n",
       "bpI            276\n",
       "bpMZ            11\n",
       "ion             21\n",
       "n               13\n",
       "dtype: int64"
      ]
     },
     "execution_count": 59,
     "metadata": {},
     "output_type": "execute_result"
    }
   ],
   "source": [
    "df.nunique(axis=0)\n",
    "\n"
   ]
  },
  {
   "cell_type": "markdown",
   "metadata": {},
   "source": [
    "Sigma is 2244, why is there not 2244 different sigmas? \n",
    "\n",
    "isoshift is 3688, why is this less than 5931?\n",
    "\n",
    "theorshift is 5, why is theoretical shift 5?\n",
    "\n"
   ]
  },
  {
   "cell_type": "markdown",
   "metadata": {},
   "source": [
    "## Description"
   ]
  },
  {
   "cell_type": "code",
   "execution_count": 72,
   "metadata": {},
   "outputs": [
    {
     "data": {
      "text/html": [
       "<div>\n",
       "<style scoped>\n",
       "    .dataframe tbody tr th:only-of-type {\n",
       "        vertical-align: middle;\n",
       "    }\n",
       "\n",
       "    .dataframe tbody tr th {\n",
       "        vertical-align: top;\n",
       "    }\n",
       "\n",
       "    .dataframe thead th {\n",
       "        text-align: right;\n",
       "    }\n",
       "</style>\n",
       "<table border=\"1\" class=\"dataframe\">\n",
       "  <thead>\n",
       "    <tr style=\"text-align: right;\">\n",
       "      <th></th>\n",
       "      <th>seqNum</th>\n",
       "      <th>I</th>\n",
       "      <th>mu</th>\n",
       "      <th>sigma</th>\n",
       "      <th>R2</th>\n",
       "      <th>isoshift</th>\n",
       "      <th>theorshift</th>\n",
       "      <th>masserror</th>\n",
       "      <th>isoratio</th>\n",
       "      <th>rt</th>\n",
       "      <th>tic</th>\n",
       "      <th>bpI</th>\n",
       "      <th>bpMZ</th>\n",
       "      <th>n</th>\n",
       "    </tr>\n",
       "  </thead>\n",
       "  <tbody>\n",
       "    <tr>\n",
       "      <th>count</th>\n",
       "      <td>10020.000000</td>\n",
       "      <td>10020.000000</td>\n",
       "      <td>10020.000000</td>\n",
       "      <td>3318.000000</td>\n",
       "      <td>10020.000000</td>\n",
       "      <td>10020.000000</td>\n",
       "      <td>10020.000000</td>\n",
       "      <td>10020.000000</td>\n",
       "      <td>10020.000000</td>\n",
       "      <td>10020.000000</td>\n",
       "      <td>10020.000000</td>\n",
       "      <td>10020.000000</td>\n",
       "      <td>10020.000000</td>\n",
       "      <td>6702.000000</td>\n",
       "    </tr>\n",
       "    <tr>\n",
       "      <th>mean</th>\n",
       "      <td>281.240719</td>\n",
       "      <td>1255.353586</td>\n",
       "      <td>133.188642</td>\n",
       "      <td>0.000343</td>\n",
       "      <td>0.931736</td>\n",
       "      <td>0.821619</td>\n",
       "      <td>0.821697</td>\n",
       "      <td>-0.000078</td>\n",
       "      <td>0.603101</td>\n",
       "      <td>1524.305758</td>\n",
       "      <td>467497966.923752</td>\n",
       "      <td>127847148.250699</td>\n",
       "      <td>132.065911</td>\n",
       "      <td>4.722172</td>\n",
       "    </tr>\n",
       "    <tr>\n",
       "      <th>std</th>\n",
       "      <td>159.094395</td>\n",
       "      <td>6494.371027</td>\n",
       "      <td>21.952450</td>\n",
       "      <td>0.000100</td>\n",
       "      <td>0.103969</td>\n",
       "      <td>0.672013</td>\n",
       "      <td>0.672074</td>\n",
       "      <td>0.000309</td>\n",
       "      <td>1.555356</td>\n",
       "      <td>865.127087</td>\n",
       "      <td>31269615.952848</td>\n",
       "      <td>4550327.475229</td>\n",
       "      <td>0.000023</td>\n",
       "      <td>3.294859</td>\n",
       "    </tr>\n",
       "    <tr>\n",
       "      <th>min</th>\n",
       "      <td>2.000000</td>\n",
       "      <td>0.134707</td>\n",
       "      <td>76.030155</td>\n",
       "      <td>0.000103</td>\n",
       "      <td>0.501668</td>\n",
       "      <td>0.000000</td>\n",
       "      <td>0.000000</td>\n",
       "      <td>-0.002083</td>\n",
       "      <td>0.000399</td>\n",
       "      <td>5.896916</td>\n",
       "      <td>372696256.000000</td>\n",
       "      <td>112933304.000000</td>\n",
       "      <td>132.065857</td>\n",
       "      <td>1.000000</td>\n",
       "    </tr>\n",
       "    <tr>\n",
       "      <th>25%</th>\n",
       "      <td>142.000000</td>\n",
       "      <td>2.989101</td>\n",
       "      <td>119.083581</td>\n",
       "      <td>0.000279</td>\n",
       "      <td>0.911165</td>\n",
       "      <td>0.000000</td>\n",
       "      <td>0.000000</td>\n",
       "      <td>-0.000109</td>\n",
       "      <td>0.017290</td>\n",
       "      <td>767.141548</td>\n",
       "      <td>445587968.000000</td>\n",
       "      <td>124789376.000000</td>\n",
       "      <td>132.065887</td>\n",
       "      <td>2.000000</td>\n",
       "    </tr>\n",
       "    <tr>\n",
       "      <th>50%</th>\n",
       "      <td>284.000000</td>\n",
       "      <td>10.240122</td>\n",
       "      <td>133.072066</td>\n",
       "      <td>0.000332</td>\n",
       "      <td>0.985646</td>\n",
       "      <td>1.003036</td>\n",
       "      <td>1.003355</td>\n",
       "      <td>0.000000</td>\n",
       "      <td>0.139587</td>\n",
       "      <td>1539.269152</td>\n",
       "      <td>466663808.000000</td>\n",
       "      <td>127740624.000000</td>\n",
       "      <td>132.065918</td>\n",
       "      <td>4.000000</td>\n",
       "    </tr>\n",
       "    <tr>\n",
       "      <th>75%</th>\n",
       "      <td>418.000000</td>\n",
       "      <td>85.806964</td>\n",
       "      <td>148.084400</td>\n",
       "      <td>0.000410</td>\n",
       "      <td>0.996529</td>\n",
       "      <td>1.005761</td>\n",
       "      <td>1.006277</td>\n",
       "      <td>0.000000</td>\n",
       "      <td>1.000000</td>\n",
       "      <td>2267.993210</td>\n",
       "      <td>490740384.000000</td>\n",
       "      <td>131088008.000000</td>\n",
       "      <td>132.065933</td>\n",
       "      <td>6.000000</td>\n",
       "    </tr>\n",
       "    <tr>\n",
       "      <th>max</th>\n",
       "      <td>552.000000</td>\n",
       "      <td>43834.394590</td>\n",
       "      <td>177.124458</td>\n",
       "      <td>0.000591</td>\n",
       "      <td>0.999659</td>\n",
       "      <td>2.005596</td>\n",
       "      <td>2.004246</td>\n",
       "      <td>0.001444</td>\n",
       "      <td>34.579208</td>\n",
       "      <td>2996.694482</td>\n",
       "      <td>545693056.000000</td>\n",
       "      <td>138738640.000000</td>\n",
       "      <td>132.065964</td>\n",
       "      <td>15.000000</td>\n",
       "    </tr>\n",
       "  </tbody>\n",
       "</table>\n",
       "</div>"
      ],
      "text/plain": [
       "             seqNum             I            mu        sigma            R2  \\\n",
       "count  10020.000000  10020.000000  10020.000000  3318.000000  10020.000000   \n",
       "mean     281.240719   1255.353586    133.188642     0.000343      0.931736   \n",
       "std      159.094395   6494.371027     21.952450     0.000100      0.103969   \n",
       "min        2.000000      0.134707     76.030155     0.000103      0.501668   \n",
       "25%      142.000000      2.989101    119.083581     0.000279      0.911165   \n",
       "50%      284.000000     10.240122    133.072066     0.000332      0.985646   \n",
       "75%      418.000000     85.806964    148.084400     0.000410      0.996529   \n",
       "max      552.000000  43834.394590    177.124458     0.000591      0.999659   \n",
       "\n",
       "           isoshift    theorshift     masserror      isoratio            rt  \\\n",
       "count  10020.000000  10020.000000  10020.000000  10020.000000  10020.000000   \n",
       "mean       0.821619      0.821697     -0.000078      0.603101   1524.305758   \n",
       "std        0.672013      0.672074      0.000309      1.555356    865.127087   \n",
       "min        0.000000      0.000000     -0.002083      0.000399      5.896916   \n",
       "25%        0.000000      0.000000     -0.000109      0.017290    767.141548   \n",
       "50%        1.003036      1.003355      0.000000      0.139587   1539.269152   \n",
       "75%        1.005761      1.006277      0.000000      1.000000   2267.993210   \n",
       "max        2.005596      2.004246      0.001444     34.579208   2996.694482   \n",
       "\n",
       "                    tic               bpI          bpMZ            n  \n",
       "count      10020.000000      10020.000000  10020.000000  6702.000000  \n",
       "mean   467497966.923752  127847148.250699    132.065911     4.722172  \n",
       "std     31269615.952848    4550327.475229      0.000023     3.294859  \n",
       "min    372696256.000000  112933304.000000    132.065857     1.000000  \n",
       "25%    445587968.000000  124789376.000000    132.065887     2.000000  \n",
       "50%    466663808.000000  127740624.000000    132.065918     4.000000  \n",
       "75%    490740384.000000  131088008.000000    132.065933     6.000000  \n",
       "max    545693056.000000  138738640.000000    132.065964    15.000000  "
      ]
     },
     "execution_count": 72,
     "metadata": {},
     "output_type": "execute_result"
    }
   ],
   "source": [
    "df.describe().apply(lambda s: s.apply(lambda x: format(x, 'f')))\n"
   ]
  },
  {
   "cell_type": "code",
   "execution_count": 61,
   "metadata": {},
   "outputs": [
    {
     "data": {
      "text/plain": [
       "array([0.        , 1.00337168, 2.00431146, ..., 1.00308055, 0.99638326,\n",
       "       2.00388222])"
      ]
     },
     "execution_count": 61,
     "metadata": {},
     "output_type": "execute_result"
    }
   ],
   "source": [
    "df.isoshift.unique()\n"
   ]
  },
  {
   "cell_type": "code",
   "execution_count": 62,
   "metadata": {},
   "outputs": [
    {
     "data": {
      "text/plain": [
       "array([0.        , 1.00335484, 2.00424578, 0.99703496, 1.00627675])"
      ]
     },
     "execution_count": 62,
     "metadata": {},
     "output_type": "execute_result"
    }
   ],
   "source": [
    "df.theorshift.unique()\n"
   ]
  },
  {
   "cell_type": "markdown",
   "metadata": {},
   "source": [
    "Should we concatenate isoshift to 5 different levels just like theor-shift?"
   ]
  },
  {
   "cell_type": "code",
   "execution_count": 63,
   "metadata": {},
   "outputs": [
    {
     "data": {
      "text/plain": [
       "<matplotlib.axes._subplots.AxesSubplot at 0x7fd399d1ef60>"
      ]
     },
     "execution_count": 63,
     "metadata": {},
     "output_type": "execute_result"
    },
    {
     "data": {
      "image/png": "[encoded data removed]",
      "text/plain": [
       "<Figure size 432x288 with 2 Axes>"
      ]
     },
     "metadata": {
      "needs_background": "light"
     },
     "output_type": "display_data"
    }
   ],
   "source": [
    "# calculate correlation matrix\n",
    "corr = df.corr()# plot the heatmap\n",
    "sns.heatmap(corr, xticklabels=corr.columns, yticklabels=corr.columns, annot=True, cmap=sns.diverging_palette(220, 20, as_cmap=True))"
   ]
  },
  {
   "cell_type": "markdown",
   "metadata": {},
   "source": [
    "Do we need to normalize the data somehow?"
   ]
  },
  {
   "cell_type": "code",
   "execution_count": 73,
   "metadata": {},
   "outputs": [
    {
     "data": {
      "text/plain": [
       "0          0\n",
       "1        13C\n",
       "2        15N\n",
       "3         2H\n",
       "4        18O\n",
       "        ... \n",
       "10015    18O\n",
       "10016      0\n",
       "10017    15N\n",
       "10018      0\n",
       "10019    15N\n",
       "Name: peak, Length: 10020, dtype: object"
      ]
     },
     "execution_count": 73,
     "metadata": {},
     "output_type": "execute_result"
    }
   ],
   "source": [
    "df.peak"
   ]
  },
  {
   "cell_type": "code",
   "execution_count": null,
   "metadata": {},
   "outputs": [],
   "source": []
  },
  {
   "cell_type": "code",
   "execution_count": null,
   "metadata": {},
   "outputs": [],
   "source": []
  },
  {
   "cell_type": "code",
   "execution_count": null,
   "metadata": {},
   "outputs": [],
   "source": []
  },
  {
   "cell_type": "markdown",
   "metadata": {},
   "source": [
    "# Analysis"
   ]
  },
  {
   "cell_type": "code",
   "execution_count": 74,
   "metadata": {},
   "outputs": [
    {
     "data": {
      "text/plain": [
       "array(['0', '13C', '15N', '2H', '18O'], dtype=object)"
      ]
     },
     "execution_count": 74,
     "metadata": {},
     "output_type": "execute_result"
    }
   ],
   "source": [
    "df.peak.unique()"
   ]
  },
  {
   "cell_type": "code",
   "execution_count": 75,
   "metadata": {},
   "outputs": [
    {
     "data": {
      "text/plain": [
       "array(['P', 'L', 'R', 'Hyl', 'A', 'S', 'V', 'N', 'Q', 'E', 'T', 'Pyr',\n",
       "       'M', 'F', 'Hyp', 'K', 'G', 'D', 'C', 'H'], dtype=object)"
      ]
     },
     "execution_count": 75,
     "metadata": {},
     "output_type": "execute_result"
    }
   ],
   "source": [
    "df.ion.unique()"
   ]
  },
  {
   "cell_type": "code",
   "execution_count": null,
   "metadata": {},
   "outputs": [],
   "source": []
  },
  {
   "cell_type": "code",
   "execution_count": null,
   "metadata": {},
   "outputs": [],
   "source": []
  },
  {
   "cell_type": "code",
   "execution_count": null,
   "metadata": {},
   "outputs": [],
   "source": []
  },
  {
   "cell_type": "code",
   "execution_count": null,
   "metadata": {},
   "outputs": [],
   "source": []
  }
 ],
 "metadata": {
  "kernelspec": {
   "display_name": "Python [conda env:py36] *",
   "language": "python",
   "name": "conda-env-py36-py"
  },
  "language_info": {
   "codemirror_mode": {
    "name": "ipython",
    "version": 3
   },
   "file_extension": ".py",
   "mimetype": "text/x-python",
   "name": "python",
   "nbconvert_exporter": "python",
   "pygments_lexer": "ipython3",
   "version": "3.6.10"
  }
 },
 "nbformat": 4,
 "nbformat_minor": 4
}
