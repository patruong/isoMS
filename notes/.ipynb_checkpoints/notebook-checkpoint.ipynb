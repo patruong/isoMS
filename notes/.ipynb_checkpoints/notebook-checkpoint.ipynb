{
 "cells": [
  {
   "attachments": {},
   "cell_type": "markdown",
   "metadata": {},
   "source": [
    "# Theory\n",
    "In this section a short description of the data fields are provided.\n",
    "\n",
    "## Total ion current\n",
    "The total ion current (TIC) chromatogram represents the summed intensity across the entire range of masses being detected at every point in the analysis. The range is typically several hundred mass-to-charge units or more. In complex samples, the TIC chromatogram often provides limited information as multiple analytes elute simultaneously, obscuring individual species.[https://en.wikipedia.org/wiki/Mass_chromatogram]\n",
    "\n",
    "![TIC](img/1280px-Total_ion_current_chromatogram.png)\n",
    "An example of TIC chromatogram from an LC-MS analysis.\n",
    "\n",
    "## Base peak intensity \n",
    "The base peak chromatogram is similar to the TIC chromatogram, however it monitors only the most intense peak in each spectrum. This means that the base peak chromatogram represents the intensity of the most intense peak at every point in the analysis. Base peak chromatograms often have a cleaner look and thus are more informative than TIC chromatograms because the background is reduced by focusing on a single analyte at every point.[https://en.wikipedia.org/wiki/Mass_chromatogram]\n",
    "\n",
    "![BPI](img/1280px-Base_peak_chromatogram.png)\n",
    "An example of BPI chromatogram from an LC-MS analysis.\n",
    "\n",
    "## Base peak MZ\n",
    "Base peak: The most intense (tallest) peak in a mass spectrum, due to the ion with the greatest relative abundance (relative intensity; height of peak along the spectrum's y-axis). Not to be confused with molecular ion: base peaks are not always molecular ions, and molecular ions are not always base peaks.\n",
    "\n",
    "![ m/z = 91](img/base_peak01.jpg)\n",
    "The electron impact ionization mass spectrum of PhCH2Cl, in which the base peak is a fragment ion having m/z = 91.\n",
    "\n",
    "![ m/z = 16](img/base_peak02.jpg)\n",
    "The electron impact ionization mass spectrum of PhCH2Cl, in which the base peak is a fragment ion having m/z = 91.[http://www.chem.ucla.edu/~harding/IGOC/B/base_peak.html]\n",
    "\n",
    "## Ion\n",
    "The amino acid ion. \n",
    "\n",
    "![ Ion list ](img/List-of-amino-acids-abbreviations.png)\n",
    "\n",
    "## n\n",
    "How many of the particles we have (e.g in 13C in the data we have 5 carbon in the proline sample.).\n",
    "\n",
    "## AUC\n",
    "Area under the curve. The area under the interpolated \"gaussian\" curve that fit the peaks (what peak was this now again? \n"
   ]
  },
  {
   "cell_type": "markdown",
   "metadata": {},
   "source": [
    "# About the data\n",
    "\n",
    "## How the data is recorded.\n",
    "\n",
    "There are different number of scans for the time that it is recording. For each scan we are looking at all the amino acids and the isotopes. If we run the experiment for 200 scans. In the perfect world we would have 200 data points for each experiment, which we could use to define a statistic that we could then use for measurement. \n"
   ]
  },
  {
   "cell_type": "markdown",
   "metadata": {},
   "source": [
    "# Loading libraries"
   ]
  },
  {
   "cell_type": "code",
   "execution_count": 4,
   "metadata": {},
   "outputs": [],
   "source": [
    "#Import Libraries\n",
    "import numpy as np\n",
    "import pandas as pd\n",
    "import matplotlib.pylab as plt\n",
    "import seaborn as sns#Understanding my variables\n"
   ]
  },
  {
   "cell_type": "markdown",
   "metadata": {},
   "source": [
    "# Load data"
   ]
  },
  {
   "cell_type": "code",
   "execution_count": 5,
   "metadata": {},
   "outputs": [],
   "source": [
    "# Read in data.\n",
    "df = pd.read_csv(\"../data/MS/20200306_AminoAcid_Pro_1_fit.csv\")\n"
   ]
  },
  {
   "cell_type": "markdown",
   "metadata": {},
   "source": [
    "# Data description\n",
    "This section contains some data description.\n"
   ]
  },
  {
   "cell_type": "markdown",
   "metadata": {},
   "source": [
    "## Shape"
   ]
  },
  {
   "cell_type": "code",
   "execution_count": 17,
   "metadata": {},
   "outputs": [
    {
     "data": {
      "text/plain": [
       "(5931, 16)"
      ]
     },
     "execution_count": 17,
     "metadata": {},
     "output_type": "execute_result"
    }
   ],
   "source": [
    "# Data details\n",
    "df.shape\n"
   ]
  },
  {
   "cell_type": "markdown",
   "metadata": {},
   "source": [
    "Data has 5931 samples and 16 columns."
   ]
  },
  {
   "cell_type": "markdown",
   "metadata": {},
   "source": [
    "## Head"
   ]
  },
  {
   "cell_type": "code",
   "execution_count": 10,
   "metadata": {},
   "outputs": [
    {
     "data": {
      "text/html": [
       "<div>\n",
       "<style scoped>\n",
       "    .dataframe tbody tr th:only-of-type {\n",
       "        vertical-align: middle;\n",
       "    }\n",
       "\n",
       "    .dataframe tbody tr th {\n",
       "        vertical-align: top;\n",
       "    }\n",
       "\n",
       "    .dataframe thead th {\n",
       "        text-align: right;\n",
       "    }\n",
       "</style>\n",
       "<table border=\"1\" class=\"dataframe\">\n",
       "  <thead>\n",
       "    <tr style=\"text-align: right;\">\n",
       "      <th></th>\n",
       "      <th>seqNum</th>\n",
       "      <th>peak</th>\n",
       "      <th>I</th>\n",
       "      <th>mu</th>\n",
       "      <th>sigma</th>\n",
       "      <th>R2</th>\n",
       "      <th>isoshift</th>\n",
       "      <th>theorshift</th>\n",
       "      <th>masserror</th>\n",
       "      <th>isoratio</th>\n",
       "      <th>rt</th>\n",
       "      <th>tic</th>\n",
       "      <th>bpI</th>\n",
       "      <th>bpMZ</th>\n",
       "      <th>ion</th>\n",
       "      <th>n</th>\n",
       "    </tr>\n",
       "  </thead>\n",
       "  <tbody>\n",
       "    <tr>\n",
       "      <th>0</th>\n",
       "      <td>1</td>\n",
       "      <td>0</td>\n",
       "      <td>178901.448535</td>\n",
       "      <td>116.070730</td>\n",
       "      <td>0.000269</td>\n",
       "      <td>0.996828</td>\n",
       "      <td>0.000000</td>\n",
       "      <td>0.000000</td>\n",
       "      <td>0.000000</td>\n",
       "      <td>1.000000</td>\n",
       "      <td>0.742637</td>\n",
       "      <td>1726367104</td>\n",
       "      <td>683092160</td>\n",
       "      <td>116.070732</td>\n",
       "      <td>P</td>\n",
       "      <td>NaN</td>\n",
       "    </tr>\n",
       "    <tr>\n",
       "      <th>1</th>\n",
       "      <td>1</td>\n",
       "      <td>13C</td>\n",
       "      <td>9755.975781</td>\n",
       "      <td>117.074117</td>\n",
       "      <td>NaN</td>\n",
       "      <td>0.996654</td>\n",
       "      <td>1.003386</td>\n",
       "      <td>1.003355</td>\n",
       "      <td>0.000032</td>\n",
       "      <td>0.054533</td>\n",
       "      <td>0.742637</td>\n",
       "      <td>1726367104</td>\n",
       "      <td>683092160</td>\n",
       "      <td>116.070732</td>\n",
       "      <td>P</td>\n",
       "      <td>5.0</td>\n",
       "    </tr>\n",
       "    <tr>\n",
       "      <th>2</th>\n",
       "      <td>1</td>\n",
       "      <td>15N</td>\n",
       "      <td>418.000876</td>\n",
       "      <td>117.067945</td>\n",
       "      <td>NaN</td>\n",
       "      <td>0.978855</td>\n",
       "      <td>0.997215</td>\n",
       "      <td>0.997035</td>\n",
       "      <td>0.000180</td>\n",
       "      <td>0.002336</td>\n",
       "      <td>0.742637</td>\n",
       "      <td>1726367104</td>\n",
       "      <td>683092160</td>\n",
       "      <td>116.070732</td>\n",
       "      <td>P</td>\n",
       "      <td>1.0</td>\n",
       "    </tr>\n",
       "    <tr>\n",
       "      <th>3</th>\n",
       "      <td>1</td>\n",
       "      <td>2H</td>\n",
       "      <td>163.643807</td>\n",
       "      <td>117.076463</td>\n",
       "      <td>NaN</td>\n",
       "      <td>0.519899</td>\n",
       "      <td>1.005733</td>\n",
       "      <td>1.006277</td>\n",
       "      <td>-0.000544</td>\n",
       "      <td>0.000915</td>\n",
       "      <td>0.742637</td>\n",
       "      <td>1726367104</td>\n",
       "      <td>683092160</td>\n",
       "      <td>116.070732</td>\n",
       "      <td>P</td>\n",
       "      <td>10.0</td>\n",
       "    </tr>\n",
       "    <tr>\n",
       "      <th>4</th>\n",
       "      <td>1</td>\n",
       "      <td>18O</td>\n",
       "      <td>569.345768</td>\n",
       "      <td>118.075025</td>\n",
       "      <td>NaN</td>\n",
       "      <td>0.995120</td>\n",
       "      <td>2.004295</td>\n",
       "      <td>2.004246</td>\n",
       "      <td>0.000049</td>\n",
       "      <td>0.003182</td>\n",
       "      <td>0.742637</td>\n",
       "      <td>1726367104</td>\n",
       "      <td>683092160</td>\n",
       "      <td>116.070732</td>\n",
       "      <td>P</td>\n",
       "      <td>2.0</td>\n",
       "    </tr>\n",
       "  </tbody>\n",
       "</table>\n",
       "</div>"
      ],
      "text/plain": [
       "   seqNum peak              I          mu     sigma        R2  isoshift  \\\n",
       "0       1    0  178901.448535  116.070730  0.000269  0.996828  0.000000   \n",
       "1       1  13C    9755.975781  117.074117       NaN  0.996654  1.003386   \n",
       "2       1  15N     418.000876  117.067945       NaN  0.978855  0.997215   \n",
       "3       1   2H     163.643807  117.076463       NaN  0.519899  1.005733   \n",
       "4       1  18O     569.345768  118.075025       NaN  0.995120  2.004295   \n",
       "\n",
       "   theorshift  masserror  isoratio        rt         tic        bpI  \\\n",
       "0    0.000000   0.000000  1.000000  0.742637  1726367104  683092160   \n",
       "1    1.003355   0.000032  0.054533  0.742637  1726367104  683092160   \n",
       "2    0.997035   0.000180  0.002336  0.742637  1726367104  683092160   \n",
       "3    1.006277  -0.000544  0.000915  0.742637  1726367104  683092160   \n",
       "4    2.004246   0.000049  0.003182  0.742637  1726367104  683092160   \n",
       "\n",
       "         bpMZ ion     n  \n",
       "0  116.070732   P   NaN  \n",
       "1  116.070732   P   5.0  \n",
       "2  116.070732   P   1.0  \n",
       "3  116.070732   P  10.0  \n",
       "4  116.070732   P   2.0  "
      ]
     },
     "execution_count": 10,
     "metadata": {},
     "output_type": "execute_result"
    }
   ],
   "source": [
    "df.head()\n"
   ]
  },
  {
   "cell_type": "markdown",
   "metadata": {},
   "source": [
    "## Columns"
   ]
  },
  {
   "cell_type": "code",
   "execution_count": 19,
   "metadata": {},
   "outputs": [
    {
     "data": {
      "text/plain": [
       "Index(['seqNum', 'peak', 'I', 'mu', 'sigma', 'R2', 'isoshift', 'theorshift',\n",
       "       'masserror', 'isoratio', 'rt', 'tic', 'bpI', 'bpMZ', 'ion', 'n'],\n",
       "      dtype='object')"
      ]
     },
     "execution_count": 19,
     "metadata": {},
     "output_type": "execute_result"
    }
   ],
   "source": [
    "df.columns"
   ]
  },
  {
   "cell_type": "markdown",
   "metadata": {},
   "source": [
    "__'seqNum'__ - Name of the scan number (the scanId).\n",
    "\n",
    "__'peak'__ - Which isotop we are looking at. 0 means the monoisotopic peak, etc. \n",
    "\n",
    "__'I'__ - The area under the \"gaussian\" curve that is fitted on the data points.\n",
    "\n",
    "__'mu'__ - M/Z ratio. Mass of the peak that we are looking at. \n",
    "\n",
    "__'sigma'__ - The sigma parameter for the \"gaussian\"-fit. \n",
    "\n",
    "__'R2'__ - The same as sigma. It described the gaussian fit for those data points. Fit of a true gaussian fit vs the actual fit. \n",
    "\n",
    "__'isoshift'__ - Actual shift that we see for the detected peak.\n",
    "\n",
    "__'theorshift'__ - Actual theoretical shift.\n",
    "\n",
    "__'masserror'__ - Difference between the isoshift and theorshift.\n",
    "\n",
    "__'isoratio'__ - Ratio of the I/(I for the peak, which is 0 [monoisotopic peak]). E.g. The peak with 0 will always be 1 for isoratio because it will always be divided by itself (own area under the curve). This is the actual area under the curve for each peak. So eventually when we want to get it for individual elements we need to divide it by the individual number of atoms that we have for this specific element.  \n",
    "\n",
    "__'rt'__ - Retention time. \n",
    "\n",
    "__'tic'__ - Total Ion Current. Which is the abundance of all the abundance in this specific scan. The rt and tic are dependent on the seqNum because when we are looking at seqNum 1. The retention time will always be the same. It doesnt matter if we go for different tic or different ion because it is still in the first scan.\n",
    "\n",
    "__'bpI'__ - Base peak intensity. Which is the intensity of the base peak.\n",
    "\n",
    "__'bpMZ'__- Base peak mass over charge ratio. Base peak in the spectrum, means the highest peak that we have. \n",
    "\n",
    "__'ion'__ - Is the name of the amino acid that we have. \n",
    "\n",
    "__'n'__ - N is the number of element for the peak that we have for the specific ion. For instance; for proline. We will look for the ion P and go for the peak; and for carbon we will have 4 number of carbons. Then n will be 4. If we go for hydrogen it will be 10. For nitrogen it will be 1. It also depends if we are looking at the MS data or the MSMS data. Becuase we have different structure and this different structure has a different number of atoms and elements. \n"
   ]
  },
  {
   "cell_type": "markdown",
   "metadata": {},
   "source": [
    "## Unique\n"
   ]
  },
  {
   "cell_type": "code",
   "execution_count": 13,
   "metadata": {},
   "outputs": [
    {
     "data": {
      "text/plain": [
       "seqNum         276\n",
       "peak             5\n",
       "I             5931\n",
       "mu            5931\n",
       "sigma         2244\n",
       "R2            5931\n",
       "isoshift      3688\n",
       "theorshift       5\n",
       "masserror     3688\n",
       "isoratio      3688\n",
       "rt             276\n",
       "tic            276\n",
       "bpI            276\n",
       "bpMZ            16\n",
       "ion             21\n",
       "n               13\n",
       "dtype: int64"
      ]
     },
     "execution_count": 13,
     "metadata": {},
     "output_type": "execute_result"
    }
   ],
   "source": [
    "df.nunique(axis=0)\n",
    "\n"
   ]
  },
  {
   "cell_type": "markdown",
   "metadata": {},
   "source": [
    "## Description"
   ]
  },
  {
   "cell_type": "code",
   "execution_count": 16,
   "metadata": {},
   "outputs": [
    {
     "data": {
      "text/html": [
       "<div>\n",
       "<style scoped>\n",
       "    .dataframe tbody tr th:only-of-type {\n",
       "        vertical-align: middle;\n",
       "    }\n",
       "\n",
       "    .dataframe tbody tr th {\n",
       "        vertical-align: top;\n",
       "    }\n",
       "\n",
       "    .dataframe thead th {\n",
       "        text-align: right;\n",
       "    }\n",
       "</style>\n",
       "<table border=\"1\" class=\"dataframe\">\n",
       "  <thead>\n",
       "    <tr style=\"text-align: right;\">\n",
       "      <th></th>\n",
       "      <th>seqNum</th>\n",
       "      <th>I</th>\n",
       "      <th>mu</th>\n",
       "      <th>sigma</th>\n",
       "      <th>R2</th>\n",
       "      <th>isoshift</th>\n",
       "      <th>theorshift</th>\n",
       "      <th>masserror</th>\n",
       "      <th>isoratio</th>\n",
       "      <th>rt</th>\n",
       "      <th>tic</th>\n",
       "      <th>bpI</th>\n",
       "      <th>bpMZ</th>\n",
       "      <th>n</th>\n",
       "    </tr>\n",
       "  </thead>\n",
       "  <tbody>\n",
       "    <tr>\n",
       "      <th>count</th>\n",
       "      <td>5931.000000</td>\n",
       "      <td>5931.000000</td>\n",
       "      <td>5931.000000</td>\n",
       "      <td>2244.000000</td>\n",
       "      <td>5931.000000</td>\n",
       "      <td>5931.000000</td>\n",
       "      <td>5931.000000</td>\n",
       "      <td>5931.000000</td>\n",
       "      <td>5931.000000</td>\n",
       "      <td>5931.000000</td>\n",
       "      <td>5931.000000</td>\n",
       "      <td>5931.000000</td>\n",
       "      <td>5931.000000</td>\n",
       "      <td>3687.000000</td>\n",
       "    </tr>\n",
       "    <tr>\n",
       "      <th>mean</th>\n",
       "      <td>269.688248</td>\n",
       "      <td>6724.797085</td>\n",
       "      <td>127.283779</td>\n",
       "      <td>0.000298</td>\n",
       "      <td>0.914391</td>\n",
       "      <td>0.780622</td>\n",
       "      <td>0.780662</td>\n",
       "      <td>-0.000040</td>\n",
       "      <td>0.600256</td>\n",
       "      <td>1466.387480</td>\n",
       "      <td>1431175010.325409</td>\n",
       "      <td>597139691.470578</td>\n",
       "      <td>116.070722</td>\n",
       "      <td>4.522105</td>\n",
       "    </tr>\n",
       "    <tr>\n",
       "      <th>std</th>\n",
       "      <td>157.954613</td>\n",
       "      <td>31098.961164</td>\n",
       "      <td>24.066124</td>\n",
       "      <td>0.000091</td>\n",
       "      <td>0.114675</td>\n",
       "      <td>0.699252</td>\n",
       "      <td>0.699272</td>\n",
       "      <td>0.000308</td>\n",
       "      <td>0.516794</td>\n",
       "      <td>860.279989</td>\n",
       "      <td>238985034.451370</td>\n",
       "      <td>99086345.884718</td>\n",
       "      <td>0.000021</td>\n",
       "      <td>3.583132</td>\n",
       "    </tr>\n",
       "    <tr>\n",
       "      <th>min</th>\n",
       "      <td>1.000000</td>\n",
       "      <td>0.500610</td>\n",
       "      <td>76.030155</td>\n",
       "      <td>0.000099</td>\n",
       "      <td>0.500942</td>\n",
       "      <td>0.000000</td>\n",
       "      <td>0.000000</td>\n",
       "      <td>-0.001859</td>\n",
       "      <td>0.000352</td>\n",
       "      <td>0.742637</td>\n",
       "      <td>649587328.000000</td>\n",
       "      <td>263874688.000000</td>\n",
       "      <td>116.070633</td>\n",
       "      <td>1.000000</td>\n",
       "    </tr>\n",
       "    <tr>\n",
       "      <th>25%</th>\n",
       "      <td>135.000000</td>\n",
       "      <td>5.624252</td>\n",
       "      <td>117.068017</td>\n",
       "      <td>0.000242</td>\n",
       "      <td>0.884396</td>\n",
       "      <td>0.000000</td>\n",
       "      <td>0.000000</td>\n",
       "      <td>-0.000107</td>\n",
       "      <td>0.146326</td>\n",
       "      <td>733.007790</td>\n",
       "      <td>1291939456.000000</td>\n",
       "      <td>544504960.000000</td>\n",
       "      <td>116.070709</td>\n",
       "      <td>2.000000</td>\n",
       "    </tr>\n",
       "    <tr>\n",
       "      <th>50%</th>\n",
       "      <td>263.000000</td>\n",
       "      <td>10.214920</td>\n",
       "      <td>130.059728</td>\n",
       "      <td>0.000296</td>\n",
       "      <td>0.968738</td>\n",
       "      <td>0.997324</td>\n",
       "      <td>0.997035</td>\n",
       "      <td>0.000000</td>\n",
       "      <td>0.584788</td>\n",
       "      <td>1429.995268</td>\n",
       "      <td>1442396544.000000</td>\n",
       "      <td>594617024.000000</td>\n",
       "      <td>116.070717</td>\n",
       "      <td>3.000000</td>\n",
       "    </tr>\n",
       "    <tr>\n",
       "      <th>75%</th>\n",
       "      <td>405.000000</td>\n",
       "      <td>46.421612</td>\n",
       "      <td>148.056956</td>\n",
       "      <td>0.000354</td>\n",
       "      <td>0.991954</td>\n",
       "      <td>1.005873</td>\n",
       "      <td>1.006277</td>\n",
       "      <td>0.000065</td>\n",
       "      <td>1.000000</td>\n",
       "      <td>2203.306418</td>\n",
       "      <td>1584722432.000000</td>\n",
       "      <td>654001728.000000</td>\n",
       "      <td>116.070732</td>\n",
       "      <td>6.000000</td>\n",
       "    </tr>\n",
       "    <tr>\n",
       "      <th>max</th>\n",
       "      <td>551.000000</td>\n",
       "      <td>231537.236707</td>\n",
       "      <td>183.090980</td>\n",
       "      <td>0.000719</td>\n",
       "      <td>0.999578</td>\n",
       "      <td>2.005458</td>\n",
       "      <td>2.004246</td>\n",
       "      <td>0.001333</td>\n",
       "      <td>11.310396</td>\n",
       "      <td>2998.647960</td>\n",
       "      <td>2056997120.000000</td>\n",
       "      <td>886031488.000000</td>\n",
       "      <td>116.070786</td>\n",
       "      <td>15.000000</td>\n",
       "    </tr>\n",
       "  </tbody>\n",
       "</table>\n",
       "</div>"
      ],
      "text/plain": [
       "            seqNum              I           mu        sigma           R2  \\\n",
       "count  5931.000000    5931.000000  5931.000000  2244.000000  5931.000000   \n",
       "mean    269.688248    6724.797085   127.283779     0.000298     0.914391   \n",
       "std     157.954613   31098.961164    24.066124     0.000091     0.114675   \n",
       "min       1.000000       0.500610    76.030155     0.000099     0.500942   \n",
       "25%     135.000000       5.624252   117.068017     0.000242     0.884396   \n",
       "50%     263.000000      10.214920   130.059728     0.000296     0.968738   \n",
       "75%     405.000000      46.421612   148.056956     0.000354     0.991954   \n",
       "max     551.000000  231537.236707   183.090980     0.000719     0.999578   \n",
       "\n",
       "          isoshift   theorshift    masserror     isoratio           rt  \\\n",
       "count  5931.000000  5931.000000  5931.000000  5931.000000  5931.000000   \n",
       "mean      0.780622     0.780662    -0.000040     0.600256  1466.387480   \n",
       "std       0.699252     0.699272     0.000308     0.516794   860.279989   \n",
       "min       0.000000     0.000000    -0.001859     0.000352     0.742637   \n",
       "25%       0.000000     0.000000    -0.000107     0.146326   733.007790   \n",
       "50%       0.997324     0.997035     0.000000     0.584788  1429.995268   \n",
       "75%       1.005873     1.006277     0.000065     1.000000  2203.306418   \n",
       "max       2.005458     2.004246     0.001333    11.310396  2998.647960   \n",
       "\n",
       "                     tic               bpI         bpMZ            n  \n",
       "count        5931.000000       5931.000000  5931.000000  3687.000000  \n",
       "mean   1431175010.325409  597139691.470578   116.070722     4.522105  \n",
       "std     238985034.451370   99086345.884718     0.000021     3.583132  \n",
       "min     649587328.000000  263874688.000000   116.070633     1.000000  \n",
       "25%    1291939456.000000  544504960.000000   116.070709     2.000000  \n",
       "50%    1442396544.000000  594617024.000000   116.070717     3.000000  \n",
       "75%    1584722432.000000  654001728.000000   116.070732     6.000000  \n",
       "max    2056997120.000000  886031488.000000   116.070786    15.000000  "
      ]
     },
     "execution_count": 16,
     "metadata": {},
     "output_type": "execute_result"
    }
   ],
   "source": [
    "df.describe().apply(lambda s: s.apply(lambda x: format(x, 'f')))\n"
   ]
  },
  {
   "cell_type": "code",
   "execution_count": null,
   "metadata": {},
   "outputs": [],
   "source": []
  },
  {
   "cell_type": "code",
   "execution_count": null,
   "metadata": {},
   "outputs": [],
   "source": []
  },
  {
   "cell_type": "code",
   "execution_count": null,
   "metadata": {},
   "outputs": [],
   "source": []
  },
  {
   "cell_type": "code",
   "execution_count": null,
   "metadata": {},
   "outputs": [],
   "source": []
  },
  {
   "cell_type": "code",
   "execution_count": null,
   "metadata": {},
   "outputs": [],
   "source": []
  },
  {
   "cell_type": "code",
   "execution_count": null,
   "metadata": {},
   "outputs": [],
   "source": []
  },
  {
   "cell_type": "code",
   "execution_count": null,
   "metadata": {},
   "outputs": [],
   "source": []
  }
 ],
 "metadata": {
  "kernelspec": {
   "display_name": "Python [conda env:py36] *",
   "language": "python",
   "name": "conda-env-py36-py"
  },
  "language_info": {
   "codemirror_mode": {
    "name": "ipython",
    "version": 3
   },
   "file_extension": ".py",
   "mimetype": "text/x-python",
   "name": "python",
   "nbconvert_exporter": "python",
   "pygments_lexer": "ipython3",
   "version": "3.6.10"
  }
 },
 "nbformat": 4,
 "nbformat_minor": 4
}
